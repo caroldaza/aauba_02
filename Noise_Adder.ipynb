{
 "cells": [
  {
   "cell_type": "code",
   "execution_count": 44,
   "metadata": {},
   "outputs": [],
   "source": [
    "import librosa\n",
    "from IPython.display import Audio\n",
    "import matplotlib.pyplot as plt\n",
    "import numpy as np\n",
    "import soundfile as sf\n",
    "from pathlib import Path\n",
    "\n",
    "# Import de Librerías\n",
    "import librosa\n",
    "import glob\n",
    "import pandas as pd\n",
    "import numpy as np\n",
    "\n",
    "import matplotlib.pyplot as plt\n",
    "from IPython.display import Audio\n",
    "from librosa.display import specshow\n",
    "\n",
    "import os\n",
    "import math"
   ]
  },
  {
   "cell_type": "code",
   "execution_count": 45,
   "metadata": {},
   "outputs": [],
   "source": [
    "def noise_adder(audio,output,SNR_level):\n",
    "    x, fs = librosa.core.load(f'{audio}',sr=16000)\n",
    "    RMS=math.sqrt(np.mean(x**2))\n",
    "    noise=np.random.normal(0, RMS/SNR_level, x.shape[0])\n",
    "    signal_noise = x+noise\n",
    "    \n",
    "    audio_name = os.path.basename(audio)\n",
    "\n",
    "    sf.write(f'{output}/AWN_{audio_name}.wav',signal_noise,fs)"
   ]
  },
  {
   "cell_type": "code",
   "execution_count": 47,
   "metadata": {},
   "outputs": [],
   "source": [
    "# RELACION SENIAL RUIDO / CUANTO MAS GRANDE, MENOR ES EL RUIDO PERCIBIDO EN CADA AUDIO\n",
    "\n",
    "SNR_level=40"
   ]
  },
  {
   "cell_type": "code",
   "execution_count": 48,
   "metadata": {},
   "outputs": [],
   "source": [
    "# Busco y guardo en un mapa todos los audio files correspondientes a los digit_keys\n",
    "digit_command_keys = [\n",
    "  'zero',                    \n",
    "  'one',\n",
    "  'two',\n",
    "  'three',\n",
    "  'four',\n",
    "  'five',\n",
    "  'six',\n",
    "  'seven',\n",
    "  'eight',\n",
    "  'nine'\n",
    "]\n",
    "\n",
    "audio_files = {}\n",
    "\n",
    "for key in digit_command_keys:\n",
    "    directory = f'../speechcommands/{key}/*.wav'\n",
    "    output = f'../speechcommands_AWN_{SNR_level}/{key}/'\n",
    "    Path(f\"{output}\").mkdir(parents=True, exist_ok=True)\n",
    "    audio_files[key] = {'audio':glob.glob(directory),'output':output}"
   ]
  },
  {
   "cell_type": "code",
   "execution_count": null,
   "metadata": {},
   "outputs": [
    {
     "name": "stdout",
     "output_type": "stream",
     "text": [
      "../speechcommands_AWN_40/zero/\n",
      "../speechcommands_AWN_40/one/\n",
      "../speechcommands_AWN_40/two/\n"
     ]
    }
   ],
   "source": [
    "audio_df = []\n",
    "\n",
    "# LE AGREGO RUIDO BLANCO DE NIVEL SNR_level A CADA AUDIO DEL DATASET\n",
    "for key in audio_files:\n",
    "    output = audio_files[key].get('output')\n",
    "    print(output)\n",
    "    for audio in audio_files[key].get('audio'):\n",
    "        noise_adder(audio,output,SNR_level)\n"
   ]
  },
  {
   "cell_type": "code",
   "execution_count": 19,
   "metadata": {},
   "outputs": [
    {
     "data": {
      "text/plain": [
       "'../speechcommands_noise/zero/'"
      ]
     },
     "execution_count": 19,
     "metadata": {},
     "output_type": "execute_result"
    }
   ],
   "source": []
  }
 ],
 "metadata": {
  "kernelspec": {
   "display_name": "Python 3",
   "language": "python",
   "name": "python3"
  },
  "language_info": {
   "codemirror_mode": {
    "name": "ipython",
    "version": 3
   },
   "file_extension": ".py",
   "mimetype": "text/x-python",
   "name": "python",
   "nbconvert_exporter": "python",
   "pygments_lexer": "ipython3",
   "version": "3.7.6"
  }
 },
 "nbformat": 4,
 "nbformat_minor": 4
}
