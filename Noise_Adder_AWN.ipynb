{
 "cells": [
  {
   "cell_type": "code",
   "execution_count": 1,
   "metadata": {},
   "outputs": [],
   "source": [
    "import librosa\n",
    "from IPython.display import Audio\n",
    "import matplotlib.pyplot as plt\n",
    "import numpy as np\n",
    "import soundfile as sf\n",
    "from pathlib import Path\n",
    "\n",
    "# Import de Librerías\n",
    "import librosa\n",
    "import glob\n",
    "import pandas as pd\n",
    "import numpy as np\n",
    "\n",
    "import matplotlib.pyplot as plt\n",
    "from IPython.display import Audio\n",
    "from librosa.display import specshow\n",
    "\n",
    "import os\n",
    "import math\n",
    "import ntpath\n"
   ]
  },
  {
   "cell_type": "code",
   "execution_count": 2,
   "metadata": {},
   "outputs": [],
   "source": [
    "def noise_adder(audio,output,level):\n",
    "    x, fs = librosa.core.load(f'{audio}',sr=16000)\n",
    "    #RMS=math.sqrt(np.mean(x**2))\n",
    "    #print(max(x))\n",
    "    noise=np.random.normal(0, 1/level, x.shape[0])\n",
    "    #print(max(noise))\n",
    "    signal_noise = x+noise\n",
    "    \n",
    "    audio_name = os.path.basename(audio)\n",
    "\n",
    "    sf.write(f'{output}/{audio_name}',signal_noise,fs)"
   ]
  },
  {
   "cell_type": "code",
   "execution_count": 3,
   "metadata": {},
   "outputs": [],
   "source": [
    "# RELACION SENIAL RUIDO / CUANTO MAS GRANDE, MENOR ES EL RUIDO PERCIBIDO EN CADA AUDIO\n",
    "\n"
   ]
  },
  {
   "cell_type": "code",
   "execution_count": 4,
   "metadata": {},
   "outputs": [],
   "source": [
    "# Busco y guardo en un mapa todos los audio files correspondientes a los digit_keys\n",
    "digit_command_keys = [\n",
    "  'zero',                    \n",
    "  'one',\n",
    "  'two',\n",
    "  'three',\n",
    "  'four',\n",
    "  'five',\n",
    "  'six',\n",
    "  'seven',\n",
    "  'eight',\n",
    "  'nine'\n",
    "]\n",
    "\n",
    "\n",
    "\n"
   ]
  },
  {
   "cell_type": "code",
   "execution_count": 5,
   "metadata": {},
   "outputs": [
    {
     "output_type": "execute_result",
     "data": {
      "text/plain": "['bed/0c40e715_nohash_0.wav',\n 'bed/0ea0e2f4_nohash_0.wav',\n 'bed/0ea0e2f4_nohash_1.wav',\n 'bed/105a0eea_nohash_0.wav',\n 'bed/1528225c_nohash_0.wav',\n 'bed/1528225c_nohash_1.wav',\n 'bed/1528225c_nohash_2.wav',\n 'bed/1528225c_nohash_3.wav',\n 'bed/1b4c9b89_nohash_0.wav',\n 'bed/1cb788bc_nohash_0.wav']"
     },
     "metadata": {},
     "execution_count": 5
    }
   ],
   "source": [
    "validation_list = pd.read_csv(\n",
    "    'https://raw.githubusercontent.com/francotestori/aauba_02/master/resources/audio_digits_testing.csv',\n",
    "    index_col=0\n",
    ").index.to_list()\n",
    "\n",
    "validation_list[0:10]"
   ]
  },
  {
   "cell_type": "code",
   "execution_count": 7,
   "metadata": {
    "tags": []
   },
   "outputs": [
    {
     "output_type": "stream",
     "name": "stdout",
     "text": "3\n../audio_digits_RUIDO_BLANCO_3/zero/\n../audio_digits_RUIDO_BLANCO_3/one/\n../audio_digits_RUIDO_BLANCO_3/two/\n../audio_digits_RUIDO_BLANCO_3/three/\n../audio_digits_RUIDO_BLANCO_3/four/\n../audio_digits_RUIDO_BLANCO_3/five/\n../audio_digits_RUIDO_BLANCO_3/six/\n../audio_digits_RUIDO_BLANCO_3/seven/\n../audio_digits_RUIDO_BLANCO_3/eight/\n../audio_digits_RUIDO_BLANCO_3/nine/\nAudios generados: 2552\n"
    }
   ],
   "source": [
    "\n",
    "for level in [3,10,30,100,300,1000,3000]:\n",
    "    print(level)\n",
    "\n",
    "    audio_files = {}\n",
    "\n",
    "    for key in digit_command_keys:\n",
    "        directory = f'../speechcommands/{key}/*.wav'\n",
    "        output = f'../audio_digits_RUIDO_BLANCO_{level}/{key}/'\n",
    "        Path(f\"{output}\").mkdir(parents=True, exist_ok=True)\n",
    "        files = glob.glob(directory)\n",
    "        audio_files[key] = {'audio':files,'output':output, 'file':[key+'/'+ntpath.basename(ss) for ss in files]}\n",
    "\n",
    "    audios_generados=0\n",
    "    # LE AGREGO RUIDO BLANCO DE NIVEL SNR_level A CADA AUDIO DEL DATASET\n",
    "    for key in audio_files:\n",
    "        output = audio_files[key].get('output')\n",
    "        print(output)\n",
    "        for audio,file in zip(audio_files[key].get('audio'),audio_files[key].get('file')):\n",
    "            if file in validation_list:\n",
    "                audios_generados+=1\n",
    "                noise_adder(audio,output,level)\n",
    "\n",
    "    print(f\"Audios generados: {audios_generados}\")"
   ]
  },
  {
   "cell_type": "code",
   "execution_count": null,
   "metadata": {},
   "outputs": [],
   "source": []
  }
 ],
 "metadata": {
  "kernelspec": {
   "display_name": "Python 3",
   "language": "python",
   "name": "python3"
  },
  "language_info": {
   "codemirror_mode": {
    "name": "ipython",
    "version": 3
   },
   "file_extension": ".py",
   "mimetype": "text/x-python",
   "name": "python",
   "nbconvert_exporter": "python",
   "pygments_lexer": "ipython3",
   "version": "3.7.6"
  }
 },
 "nbformat": 4,
 "nbformat_minor": 4
}