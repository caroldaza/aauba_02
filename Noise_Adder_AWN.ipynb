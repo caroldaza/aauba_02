{
 "cells": [
  {
   "cell_type": "code",
   "execution_count": 17,
   "metadata": {},
   "outputs": [],
   "source": [
    "import librosa\n",
    "from IPython.display import Audio\n",
    "import matplotlib.pyplot as plt\n",
    "import numpy as np\n",
    "import soundfile as sf\n",
    "from pathlib import Path\n",
    "\n",
    "# Import de Librerías\n",
    "import librosa\n",
    "import glob\n",
    "import pandas as pd\n",
    "import numpy as np\n",
    "\n",
    "import matplotlib.pyplot as plt\n",
    "from IPython.display import Audio\n",
    "from librosa.display import specshow\n",
    "\n",
    "import os\n",
    "import math\n",
    "import ntpath\n"
   ]
  },
  {
   "cell_type": "code",
   "execution_count": 18,
   "metadata": {},
   "outputs": [],
   "source": [
    "def noise_adder(audio,output,SNR_level):\n",
    "    x, fs = librosa.core.load(f'{audio}',sr=16000)\n",
    "    RMS=math.sqrt(np.mean(x**2))\n",
    "    noise=np.random.normal(0, RMS/SNR_level, x.shape[0])\n",
    "    signal_noise = x+noise\n",
    "    \n",
    "    audio_name = os.path.basename(audio)\n",
    "\n",
    "    sf.write(f'{output}/AWN_{audio_name}.wav',signal_noise,fs)"
   ]
  },
  {
   "cell_type": "code",
   "execution_count": 57,
   "metadata": {},
   "outputs": [],
   "source": [
    "# RELACION SENIAL RUIDO / CUANTO MAS GRANDE, MENOR ES EL RUIDO PERCIBIDO EN CADA AUDIO\n",
    "\n",
    "SNR_level=20"
   ]
  },
  {
   "cell_type": "code",
   "execution_count": 58,
   "metadata": {},
   "outputs": [],
   "source": [
    "# Busco y guardo en un mapa todos los audio files correspondientes a los digit_keys\n",
    "digit_command_keys = [\n",
    "  'zero',                    \n",
    "  'one',\n",
    "  'two',\n",
    "  'three',\n",
    "  'four',\n",
    "  'five',\n",
    "  'six',\n",
    "  'seven',\n",
    "  'eight',\n",
    "  'nine'\n",
    "]\n",
    "\n",
    "audio_files = {}\n",
    "\n",
    "for key in digit_command_keys:\n",
    "    directory = f'../speechcommands/{key}/*.wav'\n",
    "    output = f'./speechcommands_AWN_{SNR_level}_2/{key}/'\n",
    "    Path(f\"{output}\").mkdir(parents=True, exist_ok=True)\n",
    "    files = glob.glob(directory)\n",
    "    audio_files[key] = {'audio':files,'output':output, 'file':[key+'/'+ntpath.basename(ss) for ss in files]}\n",
    "\n",
    "validation_list = pd.read_csv(\n",
    "    '../speechcommands/validation_list.txt',\n",
    "    index_col=0\n",
    ").index.to_list()\n",
    "\n"
   ]
  },
  {
   "cell_type": "code",
   "execution_count": 59,
   "metadata": {},
   "outputs": [
    {
     "output_type": "execute_result",
     "data": {
      "text/plain": "['bed/060cd039_nohash_0.wav',\n 'bed/060cd039_nohash_1.wav',\n 'bed/099d52ad_nohash_0.wav',\n 'bed/0e17f595_nohash_0.wav',\n 'bed/0e17f595_nohash_1.wav',\n 'bed/105e72bb_nohash_0.wav',\n 'bed/1657c9fa_nohash_0.wav',\n 'bed/16db1582_nohash_0.wav',\n 'bed/171b56dc_nohash_0.wav',\n 'bed/1942abd7_nohash_0.wav']"
     },
     "metadata": {},
     "execution_count": 59
    }
   ],
   "source": [
    "validation_list[0:10]"
   ]
  },
  {
   "cell_type": "code",
   "execution_count": 60,
   "metadata": {
    "tags": []
   },
   "outputs": [
    {
     "output_type": "stream",
     "name": "stdout",
     "text": "../../speechcommands_AWN_20_2/zero/\n../../speechcommands_AWN_20_2/one/\n../../speechcommands_AWN_20_2/two/\n../../speechcommands_AWN_20_2/three/\n../../speechcommands_AWN_20_2/four/\n../../speechcommands_AWN_20_2/five/\n../../speechcommands_AWN_20_2/six/\n../../speechcommands_AWN_20_2/seven/\n../../speechcommands_AWN_20_2/eight/\n../../speechcommands_AWN_20_2/nine/\nAudios generados: 2494\n"
    }
   ],
   "source": [
    "audio_df = []\n",
    "audios_generados=0\n",
    "\n",
    "# LE AGREGO RUIDO BLANCO DE NIVEL SNR_level A CADA AUDIO DEL DATASET\n",
    "for key in audio_files:\n",
    "    output = audio_files[key].get('output')\n",
    "    print(output)\n",
    "    for audio,file in zip(audio_files[key].get('audio'),audio_files[key].get('file')):\n",
    "        if file in validation_list:\n",
    "            audios_generados+=1\n",
    "            noise_adder(audio,output,SNR_level)\n",
    "\n",
    "print(f\"Audios generados: {audios_generados}\")"
   ]
  },
  {
   "cell_type": "code",
   "execution_count": null,
   "metadata": {},
   "outputs": [],
   "source": []
  }
 ],
 "metadata": {
  "kernelspec": {
   "display_name": "Python 3",
   "language": "python",
   "name": "python3"
  },
  "language_info": {
   "codemirror_mode": {
    "name": "ipython",
    "version": 3
   },
   "file_extension": ".py",
   "mimetype": "text/x-python",
   "name": "python",
   "nbconvert_exporter": "python",
   "pygments_lexer": "ipython3",
   "version": "3.7.6"
  }
 },
 "nbformat": 4,
 "nbformat_minor": 4
}