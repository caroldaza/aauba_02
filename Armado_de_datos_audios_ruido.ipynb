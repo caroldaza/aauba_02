{
  "cells": [
    {
      "cell_type": "markdown",
      "metadata": {
        "id": "view-in-github",
        "colab_type": "text"
      },
      "source": [
        "<a href=\"https://colab.research.google.com/github/francotestori/aauba_02/blob/master/Armado_de_datos.ipynb\" target=\"_parent\"><img src=\"https://colab.research.google.com/assets/colab-badge.svg\" alt=\"Open In Colab\"/></a>"
      ]
    },
    {
      "cell_type": "markdown",
      "metadata": {
        "colab_type": "text",
        "id": "pGc-cZqQfonm"
      },
      "source": [
        "# Trabajo Practico 2"
      ]
    },
    {
      "cell_type": "markdown",
      "metadata": {
        "colab_type": "text",
        "id": "92sWDGp5fuA7"
      },
      "source": [
        "## Armado del dataset"
      ]
    },
    {
      "cell_type": "code",
      "metadata": {
        "colab_type": "code",
        "id": "a1KLnJmVfUmJ",
        "colab": {}
      },
      "source": [
        "!wget http://download.tensorflow.org/data/speech_commands_v0.01.tar.gz\n",
        "!mkdir speechcommands\n",
        "!tar -xf speech_commands_v0.01.tar.gz -C /content/speechcommands"
      ],
      "execution_count": null,
      "outputs": []
    },
    {
      "cell_type": "code",
      "metadata": {
        "colab_type": "code",
        "id": "TqfLyf5SgN5T",
        "colab": {}
      },
      "source": [
        "# Import de Librerías\n",
        "import librosa\n",
        "import glob\n",
        "import pandas as pd\n",
        "import numpy as np\n",
        "\n",
        "import matplotlib.pyplot as plt\n",
        "from IPython.display import Audio\n",
        "from librosa.display import specshow"
      ],
      "execution_count": 1,
      "outputs": []
    },
    {
      "cell_type": "code",
      "metadata": {
        "colab_type": "code",
        "id": "M395ReFEgUVQ",
        "colab": {}
      },
      "source": [
        "# Busco y guardo en un mapa todos los audio files correspondientes a los digit_keys\n",
        "digit_command_keys = [\n",
        "  'zero',                    \n",
        "  'one',\n",
        "  'two',\n",
        "  'three',\n",
        "  'four',\n",
        "  'five',\n",
        "  'six',\n",
        "  'seven',\n",
        "  'eight',\n",
        "  'nine'\n",
        "]\n",
        "\n"
      ],
      "execution_count": 2,
      "outputs": []
    },
    {
      "cell_type": "code",
      "metadata": {
        "colab_type": "code",
        "id": "pE9JNNtbh0Nq",
        "colab": {}
      },
      "source": [
        "# Utilizamos la función propuesta en el TP \n",
        "# para hacer la extracción de los datos \n",
        "# correspondientes a cada audio file\n",
        "\n",
        "def calculate_features(\n",
        "        filename,\n",
        "        n_mfcc=12,\n",
        "        delta=True,\n",
        "        deltadelta=True,\n",
        "        energy=True, \n",
        "        summary_fn = [np.mean, np.std], \n",
        "        summary_names=['mean','std']):\n",
        "    #Abro el archivo:\n",
        "    x, sr = librosa.core.load(filename,sr=None)\n",
        "\n",
        "    #Calculo MFCCs\n",
        "    features = librosa.feature.mfcc(x,sr=sr,n_mfcc=n_mfcc)\n",
        "    feat_names = ['mfcc_{}'.format(i) for i in range(n_mfcc)]\n",
        "    #Calculo energia:\n",
        "    if energy:\n",
        "        energy = librosa.feature.rms(x)\n",
        "        features = np.concatenate([features,energy])\n",
        "        feat_names = feat_names + ['energy']\n",
        "    #Aplico media y desvio estandar por defecto\n",
        "    summary_features = np.concatenate([fn(features,axis=1) for fn in summary_fn])\n",
        "    feat_names = ['{}_{}'.format(name_i,summ_i) for summ_i in summary_names for name_i in feat_names]\n",
        "\n",
        "    #Lo mismo con los delta\n",
        "    if delta:\n",
        "        deltafeatures = np.diff(features)\n",
        "        summary_features = np.concatenate([summary_features,np.concatenate([fn(deltafeatures,axis=1) for fn in summary_fn])])\n",
        "        d_names = ['d{}'.format(name) for name in feat_names]\n",
        "    else:\n",
        "        d_names = []\n",
        "\n",
        "    #Y con los delta de segundo orden\n",
        "    if deltadelta:\n",
        "        deltadeltafeatures = np.diff(features,n=2)\n",
        "        summary_features = np.concatenate([summary_features,np.concatenate([fn(deltadeltafeatures,axis=1) for fn in summary_fn])]) \n",
        "        dd_names = ['dd{}'.format(name) for name in feat_names]\n",
        "    else:\n",
        "        dd_names = []\n",
        "\n",
        "    feat_names = feat_names + d_names + dd_names\n",
        "\n",
        "    return summary_features, feat_names  "
      ],
      "execution_count": 3,
      "outputs": []
    },
    {
      "cell_type": "code",
      "execution_count": 5,
      "metadata": {},
      "outputs": [],
      "source": [
        "# NOISE SOURCE\n",
        "\n",
        "folders = [\n",
        "  'sc_STREET-CITY-1_lvl_10',  \n",
        "  'sc_CAFE-CAFE-1_lvl_10',\n",
        "  'sc_CAFE-FOODCOURTB-1_lvl_10',\n",
        "  'sc_HOME-KITCHEN-1_lvl_10',\n",
        "]\n",
        "\n",
        "folders = [\n",
        "  'speechcommands_AWN_100_2', \n",
        "  'speechcommands_AWN_40_2', \n",
        "  'speechcommands_AWN_20_2',  \n",
        "]\n"
      ]
    },
    {
      "cell_type": "code",
      "metadata": {
        "colab_type": "code",
        "id": "o9AsFChekLPJ",
        "colab": {
          "base_uri": "https://localhost:8080/",
          "height": 374
        },
        "outputId": "c1288a41-831a-4e7f-df76-076d3475e563",
        "tags": []
      },
      "source": [
        "for folder in folders:\n",
        "    audio_files = {}\n",
        "    for key in digit_command_keys:\n",
        "        directory = f'../{folder}/{key}/*.wav'\n",
        "        audio_files[key] = glob.glob(directory)\n",
        "    print(folder)\n",
        "    audio_df = pd.DataFrame()\n",
        "    k=0\n",
        "    for key in audio_files:\n",
        "        print(key)\n",
        "        j=0\n",
        "        for audio in audio_files[key]:\n",
        "            feat, names = calculate_features(audio)\n",
        "            audio_row = dict(zip(names, feat))\n",
        "            audio_row['digit'] = key\n",
        "            audio_row['filename'] = audio\n",
        "            audio_df = audio_df.append(audio_row, ignore_index=True)\n",
        "            k+=1\n",
        "            j+=1\n",
        "        print(f'Procesados {j} audios en {folder}/{key}.')\n",
        "    print(f'Procesados {k} audios en {folder}.')\n",
        "    audio_df.to_csv(f'resources/{folder}.csv')"
      ],
      "execution_count": 6,
      "outputs": [
        {
          "output_type": "stream",
          "name": "stdout",
          "text": "speechcommands_AWN_100_2\nzero\nProcesados 0 audios en speechcommands_AWN_100_2/zero.\none\nProcesados 0 audios en speechcommands_AWN_100_2/one.\ntwo\nProcesados 0 audios en speechcommands_AWN_100_2/two.\nthree\nProcesados 0 audios en speechcommands_AWN_100_2/three.\nfour\nProcesados 0 audios en speechcommands_AWN_100_2/four.\nfive\nProcesados 0 audios en speechcommands_AWN_100_2/five.\nsix\nProcesados 0 audios en speechcommands_AWN_100_2/six.\nseven\nProcesados 0 audios en speechcommands_AWN_100_2/seven.\neight\nProcesados 0 audios en speechcommands_AWN_100_2/eight.\nnine\nProcesados 0 audios en speechcommands_AWN_100_2/nine.\nProcesados 0 audios en speechcommands_AWN_100_2.\n"
        },
        {
          "output_type": "error",
          "ename": "FileNotFoundError",
          "evalue": "[Errno 2] No such file or directory: 'content/speechcommands_AWN_100_2.csv'",
          "traceback": [
            "\u001b[1;31m---------------------------------------------------------------------------\u001b[0m",
            "\u001b[1;31mFileNotFoundError\u001b[0m                         Traceback (most recent call last)",
            "\u001b[1;32m<ipython-input-6-1f7f5118baf8>\u001b[0m in \u001b[0;36m<module>\u001b[1;34m\u001b[0m\n\u001b[0;32m     20\u001b[0m         \u001b[0mprint\u001b[0m\u001b[1;33m(\u001b[0m\u001b[1;34mf'Procesados {j} audios en {folder}/{key}.'\u001b[0m\u001b[1;33m)\u001b[0m\u001b[1;33m\u001b[0m\u001b[1;33m\u001b[0m\u001b[0m\n\u001b[0;32m     21\u001b[0m     \u001b[0mprint\u001b[0m\u001b[1;33m(\u001b[0m\u001b[1;34mf'Procesados {k} audios en {folder}.'\u001b[0m\u001b[1;33m)\u001b[0m\u001b[1;33m\u001b[0m\u001b[1;33m\u001b[0m\u001b[0m\n\u001b[1;32m---> 22\u001b[1;33m     \u001b[0maudio_df\u001b[0m\u001b[1;33m.\u001b[0m\u001b[0mto_csv\u001b[0m\u001b[1;33m(\u001b[0m\u001b[1;34mf'content/{folder}.csv'\u001b[0m\u001b[1;33m)\u001b[0m\u001b[1;33m\u001b[0m\u001b[1;33m\u001b[0m\u001b[0m\n\u001b[0m",
            "\u001b[1;32m~\\anaconda3\\lib\\site-packages\\pandas\\core\\generic.py\u001b[0m in \u001b[0;36mto_csv\u001b[1;34m(self, path_or_buf, sep, na_rep, float_format, columns, header, index, index_label, mode, encoding, compression, quoting, quotechar, line_terminator, chunksize, date_format, doublequote, escapechar, decimal)\u001b[0m\n\u001b[0;32m   3202\u001b[0m             \u001b[0mdecimal\u001b[0m\u001b[1;33m=\u001b[0m\u001b[0mdecimal\u001b[0m\u001b[1;33m,\u001b[0m\u001b[1;33m\u001b[0m\u001b[1;33m\u001b[0m\u001b[0m\n\u001b[0;32m   3203\u001b[0m         )\n\u001b[1;32m-> 3204\u001b[1;33m         \u001b[0mformatter\u001b[0m\u001b[1;33m.\u001b[0m\u001b[0msave\u001b[0m\u001b[1;33m(\u001b[0m\u001b[1;33m)\u001b[0m\u001b[1;33m\u001b[0m\u001b[1;33m\u001b[0m\u001b[0m\n\u001b[0m\u001b[0;32m   3205\u001b[0m \u001b[1;33m\u001b[0m\u001b[0m\n\u001b[0;32m   3206\u001b[0m         \u001b[1;32mif\u001b[0m \u001b[0mpath_or_buf\u001b[0m \u001b[1;32mis\u001b[0m \u001b[1;32mNone\u001b[0m\u001b[1;33m:\u001b[0m\u001b[1;33m\u001b[0m\u001b[1;33m\u001b[0m\u001b[0m\n",
            "\u001b[1;32m~\\anaconda3\\lib\\site-packages\\pandas\\io\\formats\\csvs.py\u001b[0m in \u001b[0;36msave\u001b[1;34m(self)\u001b[0m\n\u001b[0;32m    186\u001b[0m                 \u001b[0mself\u001b[0m\u001b[1;33m.\u001b[0m\u001b[0mmode\u001b[0m\u001b[1;33m,\u001b[0m\u001b[1;33m\u001b[0m\u001b[1;33m\u001b[0m\u001b[0m\n\u001b[0;32m    187\u001b[0m                 \u001b[0mencoding\u001b[0m\u001b[1;33m=\u001b[0m\u001b[0mself\u001b[0m\u001b[1;33m.\u001b[0m\u001b[0mencoding\u001b[0m\u001b[1;33m,\u001b[0m\u001b[1;33m\u001b[0m\u001b[1;33m\u001b[0m\u001b[0m\n\u001b[1;32m--> 188\u001b[1;33m                 \u001b[0mcompression\u001b[0m\u001b[1;33m=\u001b[0m\u001b[0mdict\u001b[0m\u001b[1;33m(\u001b[0m\u001b[0mself\u001b[0m\u001b[1;33m.\u001b[0m\u001b[0mcompression_args\u001b[0m\u001b[1;33m,\u001b[0m \u001b[0mmethod\u001b[0m\u001b[1;33m=\u001b[0m\u001b[0mself\u001b[0m\u001b[1;33m.\u001b[0m\u001b[0mcompression\u001b[0m\u001b[1;33m)\u001b[0m\u001b[1;33m,\u001b[0m\u001b[1;33m\u001b[0m\u001b[1;33m\u001b[0m\u001b[0m\n\u001b[0m\u001b[0;32m    189\u001b[0m             )\n\u001b[0;32m    190\u001b[0m             \u001b[0mclose\u001b[0m \u001b[1;33m=\u001b[0m \u001b[1;32mTrue\u001b[0m\u001b[1;33m\u001b[0m\u001b[1;33m\u001b[0m\u001b[0m\n",
            "\u001b[1;32m~\\anaconda3\\lib\\site-packages\\pandas\\io\\common.py\u001b[0m in \u001b[0;36mget_handle\u001b[1;34m(path_or_buf, mode, encoding, compression, memory_map, is_text)\u001b[0m\n\u001b[0;32m    426\u001b[0m         \u001b[1;32mif\u001b[0m \u001b[0mencoding\u001b[0m\u001b[1;33m:\u001b[0m\u001b[1;33m\u001b[0m\u001b[1;33m\u001b[0m\u001b[0m\n\u001b[0;32m    427\u001b[0m             \u001b[1;31m# Encoding\u001b[0m\u001b[1;33m\u001b[0m\u001b[1;33m\u001b[0m\u001b[1;33m\u001b[0m\u001b[0m\n\u001b[1;32m--> 428\u001b[1;33m             \u001b[0mf\u001b[0m \u001b[1;33m=\u001b[0m \u001b[0mopen\u001b[0m\u001b[1;33m(\u001b[0m\u001b[0mpath_or_buf\u001b[0m\u001b[1;33m,\u001b[0m \u001b[0mmode\u001b[0m\u001b[1;33m,\u001b[0m \u001b[0mencoding\u001b[0m\u001b[1;33m=\u001b[0m\u001b[0mencoding\u001b[0m\u001b[1;33m,\u001b[0m \u001b[0mnewline\u001b[0m\u001b[1;33m=\u001b[0m\u001b[1;34m\"\"\u001b[0m\u001b[1;33m)\u001b[0m\u001b[1;33m\u001b[0m\u001b[1;33m\u001b[0m\u001b[0m\n\u001b[0m\u001b[0;32m    429\u001b[0m         \u001b[1;32melif\u001b[0m \u001b[0mis_text\u001b[0m\u001b[1;33m:\u001b[0m\u001b[1;33m\u001b[0m\u001b[1;33m\u001b[0m\u001b[0m\n\u001b[0;32m    430\u001b[0m             \u001b[1;31m# No explicit encoding\u001b[0m\u001b[1;33m\u001b[0m\u001b[1;33m\u001b[0m\u001b[1;33m\u001b[0m\u001b[0m\n",
            "\u001b[1;31mFileNotFoundError\u001b[0m: [Errno 2] No such file or directory: 'content/speechcommands_AWN_100_2.csv'"
          ]
        }
      ]
    },
    {
      "cell_type": "code",
      "execution_count": null,
      "metadata": {},
      "outputs": [],
      "source": []
    }
  ],
  "metadata": {
    "colab": {
      "name": "Armado_de_datos.ipynb",
      "provenance": [],
      "collapsed_sections": [],
      "include_colab_link": true
    },
    "kernelspec": {
      "display_name": "Python 3",
      "language": "python",
      "name": "python3"
    },
    "language_info": {
      "codemirror_mode": {
        "name": "ipython",
        "version": 3
      },
      "file_extension": ".py",
      "mimetype": "text/x-python",
      "name": "python",
      "nbconvert_exporter": "python",
      "pygments_lexer": "ipython3",
      "version": "3.7.6"
    }
  },
  "nbformat": 4,
  "nbformat_minor": 0
}